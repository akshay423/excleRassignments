{
 "cells": [
  {
   "cell_type": "markdown",
   "id": "6cd0b9aa-deae-4d85-b848-5f4b82b7c294",
   "metadata": {},
   "source": [
    "  # PYTHON PROGRAMMING ASSIGNMENT"
   ]
  },
  {
   "cell_type": "markdown",
   "id": "3d2d42e4-c64c-4252-abde-3c168ad37fd9",
   "metadata": {},
   "source": [
    "   PYTHON PROGRAMMING ASSIGNMENT"
   ]
  },
  {
   "cell_type": "markdown",
   "id": "fd225d8c-c845-4a6f-b4b1-00fc8a0f6e7a",
   "metadata": {},
   "source": [
    " **Exercise 1: Prime Numbers**"
   ]
  },
  {
   "cell_type": "code",
   "execution_count": 41,
   "id": "e27739b5-0ca6-4670-80ab-370d201a4c34",
   "metadata": {},
   "outputs": [
    {
     "name": "stdin",
     "output_type": "stream",
     "text": [
      "enter number :-  12\n"
     ]
    },
    {
     "name": "stdout",
     "output_type": "stream",
     "text": [
      "12  is not prime number\n"
     ]
    }
   ],
   "source": [
    "num = int(input('enter number :- ')) # taking frome the user number\n",
    "if num >1:\n",
    "    \n",
    "    for i in range(2,num//2+1): # take range from 2 to off of the given number\n",
    "        if num%2==0: #  # check the number is divisible by any number or not\n",
    "            \n",
    "            print( num,\" is not prime number\")\n",
    "            break\n",
    "        else:\n",
    "            print(num, \" is prime number\")\n",
    "            break\n",
    "else:\n",
    "    \n",
    "    print(num,'is not prime number ')     #if given number is less than 1 then it will this statement\n",
    "    "
   ]
  },
  {
   "cell_type": "markdown",
   "id": "248843ef-21ba-4638-b79b-5c077bbf4016",
   "metadata": {},
   "source": [
    "# Exercise 2: Product of Random Numbers"
   ]
  },
  {
   "cell_type": "markdown",
   "id": "ee72a338-865e-4ceb-976a-25542e7247ce",
   "metadata": {},
   "source": [
    "* Develop a Python program that generates two random numbers and asks the user to enter the product of these numbers. The program should then check if the user's answer is correct and display an appropriate message. *\n"
   ]
  },
  {
   "cell_type": "code",
   "execution_count": 60,
   "id": "15aef91f-4acc-4803-a884-84604bf31926",
   "metadata": {},
   "outputs": [
    {
     "name": "stdin",
     "output_type": "stream",
     "text": [
      "What is the product of 3 and 10:-  30\n"
     ]
    },
    {
     "name": "stdout",
     "output_type": "stream",
     "text": [
      "Correct! Well done.\n"
     ]
    }
   ],
   "source": [
    "\n",
    "    # Generate two random numbers between 1 and 10\n",
    "    num1 = random.randint(1, 10)\n",
    "    num2 = random.randint(1, 10)\n",
    "    \n",
    "    # Calculate the correct product\n",
    "    correct_product = num1 * num2\n",
    "    \n",
    "    # Ask the user to enter their answer\n",
    "    user_answer = int(input(f\"What is the product of {num1} and {num2}:- \"))\n",
    "    \n",
    "    # Check if the user's answer is correct\n",
    "    if user_answer == correct_product:\n",
    "        print(\"Correct! Well done.\")\n",
    "    else:\n",
    "        print(f\"Incorrect. The correct answer is {correct_product}.\")\n",
    "\n",
    "\n"
   ]
  },
  {
   "cell_type": "markdown",
   "id": "72183d57-cd18-4832-ad1a-af96df20ad1c",
   "metadata": {},
   "source": [
    "# Exercise 3: Squares of Even/Odd Numbers"
   ]
  },
  {
   "cell_type": "markdown",
   "id": "0d3f1a51-771d-433e-9532-04fdec17e5a4",
   "metadata": {},
   "source": [
    "** Create a Python script that prints the squares of all even or odd numbers within the range of 100 to 200. Choose either even or odd numbers and document your choice in the code  **"
   ]
  },
  {
   "cell_type": "code",
   "execution_count": 68,
   "id": "53b33e4d-7da0-432d-ac1b-4b75fb45178e",
   "metadata": {},
   "outputs": [
    {
     "name": "stdout",
     "output_type": "stream",
     "text": [
      "The even  100 and the sqaures nuber 10000\n",
      "The even  102 and the sqaures nuber 10404\n",
      "The even  104 and the sqaures nuber 10816\n",
      "The even  106 and the sqaures nuber 11236\n",
      "The even  108 and the sqaures nuber 11664\n",
      "The even  110 and the sqaures nuber 12100\n",
      "The even  112 and the sqaures nuber 12544\n",
      "The even  114 and the sqaures nuber 12996\n",
      "The even  116 and the sqaures nuber 13456\n",
      "The even  118 and the sqaures nuber 13924\n",
      "The even  120 and the sqaures nuber 14400\n",
      "The even  122 and the sqaures nuber 14884\n",
      "The even  124 and the sqaures nuber 15376\n",
      "The even  126 and the sqaures nuber 15876\n",
      "The even  128 and the sqaures nuber 16384\n",
      "The even  130 and the sqaures nuber 16900\n",
      "The even  132 and the sqaures nuber 17424\n",
      "The even  134 and the sqaures nuber 17956\n",
      "The even  136 and the sqaures nuber 18496\n",
      "The even  138 and the sqaures nuber 19044\n",
      "The even  140 and the sqaures nuber 19600\n",
      "The even  142 and the sqaures nuber 20164\n",
      "The even  144 and the sqaures nuber 20736\n",
      "The even  146 and the sqaures nuber 21316\n",
      "The even  148 and the sqaures nuber 21904\n",
      "The even  150 and the sqaures nuber 22500\n",
      "The even  152 and the sqaures nuber 23104\n",
      "The even  154 and the sqaures nuber 23716\n",
      "The even  156 and the sqaures nuber 24336\n",
      "The even  158 and the sqaures nuber 24964\n",
      "The even  160 and the sqaures nuber 25600\n",
      "The even  162 and the sqaures nuber 26244\n",
      "The even  164 and the sqaures nuber 26896\n",
      "The even  166 and the sqaures nuber 27556\n",
      "The even  168 and the sqaures nuber 28224\n",
      "The even  170 and the sqaures nuber 28900\n",
      "The even  172 and the sqaures nuber 29584\n",
      "The even  174 and the sqaures nuber 30276\n",
      "The even  176 and the sqaures nuber 30976\n",
      "The even  178 and the sqaures nuber 31684\n",
      "The even  180 and the sqaures nuber 32400\n",
      "The even  182 and the sqaures nuber 33124\n",
      "The even  184 and the sqaures nuber 33856\n",
      "The even  186 and the sqaures nuber 34596\n",
      "The even  188 and the sqaures nuber 35344\n",
      "The even  190 and the sqaures nuber 36100\n",
      "The even  192 and the sqaures nuber 36864\n",
      "The even  194 and the sqaures nuber 37636\n",
      "The even  196 and the sqaures nuber 38416\n",
      "The even  198 and the sqaures nuber 39204\n"
     ]
    }
   ],
   "source": [
    "for i in range(100, 200): # taking number 100 to 200\n",
    "    \n",
    "    if i%2==0: E# finding even umber \n",
    "        print(\"The even \", i,'and the sqaures nuber',i**2) # Squares the even number\n"
   ]
  },
  {
   "cell_type": "markdown",
   "id": "b44ddb1c-6804-4fdf-9922-ef068ba61588",
   "metadata": {},
   "source": [
    "# Exercise 4: Word counter"
   ]
  },
  {
   "cell_type": "markdown",
   "id": "21ad22d0-fc93-451f-a450-b494823a334b",
   "metadata": {},
   "source": [
    "**write a program to count the number of words in a given text.**"
   ]
  },
  {
   "cell_type": "code",
   "execution_count": 77,
   "id": "a030addc-25b9-436f-accb-6cc588882010",
   "metadata": {},
   "outputs": [
    {
     "name": "stdout",
     "output_type": "stream",
     "text": [
      "{'This': 2, 'is': 1, 'a': 1, 'sample': 1, 'text.': 1, 'text': 1, 'will': 1, 'be': 1, 'used': 1, 'to': 1, 'demonstrate': 1, 'the': 1, 'word': 1, 'counter.': 1}\n"
     ]
    }
   ],
   "source": [
    "input_text=\"This is a sample text. This text will be used to demonstrate the word counter.\" # user text input\n",
    "\n",
    "def count_words(input_text):\n",
    "  words=input_text.split() # split the input text into a list of words based on spaces\n",
    "  word_count={} # creating empty dictionary to store the word count\n",
    "  for i in words:\n",
    "    if i in word_count: #loop through each word in the list\n",
    "      word_count[i]+=1 # if the word is already in the dictionary, increment its count by 1\n",
    "    else: # if the word is not in the dictionary, add it with an initial count of 1\n",
    "      word_count[i]=1\n",
    "  return word_count # return the dictionary containing words and their counts\n",
    "result=count_words(input_text) # calling the function, and storing in result\n",
    "print(result)\n",
    "\n"
   ]
  },
  {
   "cell_type": "markdown",
   "id": "2b9ef2d0-8cd9-4c90-8e33-c38a0170c01d",
   "metadata": {},
   "source": [
    "# CHECK FOR PALINDRONE"
   ]
  },
  {
   "cell_type": "markdown",
   "id": "da43be1f-f5f4-47e0-af86-24ddae2a179e",
   "metadata": {},
   "source": [
    "\n",
    "**5.Write a Python function called is_palindrome that takes a string as input and returns True if the string is a palindrome, and False otherwise. A palindrome is a word, phrase, number, or other sequence of characters that reads the same forward and backward, ignoring spaces, punctuation, and capitalization.\n",
    "Example:\n",
    "Input: \"racecar\"\n",
    "Expected Output: True**"
   ]
  },
  {
   "cell_type": "code",
   "execution_count": 82,
   "id": "82e1a9ce-60f1-4cf7-921a-1f048aa0a308",
   "metadata": {},
   "outputs": [
    {
     "name": "stdout",
     "output_type": "stream",
     "text": [
      "True\n",
      "True\n"
     ]
    }
   ],
   "source": [
    "import string\n",
    "def is_palindrome(x): # check the input string is a pa;indrome\n",
    "\n",
    " New_String=''.join(char.lower() for char in x if char.isalnum()) # creating a new string that contains only alphanumeric characters in lower case\n",
    " return New_String==New_String[::-1] # check if the processed string is equal to its reverse\n",
    "\n",
    "print(is_palindrome('racecar')) # test the function with the string 'racecar',it should return true\n",
    "print(is_palindrome('1234567654321')) #test the function with the string '1234567654321',it should return true"
   ]
  },
  {
   "cell_type": "code",
   "execution_count": null,
   "id": "49e24f62-9ea2-4a06-83e8-1ca3b4f78bb6",
   "metadata": {},
   "outputs": [],
   "source": []
  }
 ],
 "metadata": {
  "kernelspec": {
   "display_name": "Python 3 (ipykernel)",
   "language": "python",
   "name": "python3"
  },
  "language_info": {
   "codemirror_mode": {
    "name": "ipython",
    "version": 3
   },
   "file_extension": ".py",
   "mimetype": "text/x-python",
   "name": "python",
   "nbconvert_exporter": "python",
   "pygments_lexer": "ipython3",
   "version": "3.11.7"
  }
 },
 "nbformat": 4,
 "nbformat_minor": 5
}
